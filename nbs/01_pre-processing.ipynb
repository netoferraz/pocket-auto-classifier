{
 "cells": [
  {
   "cell_type": "code",
   "execution_count": 113,
   "metadata": {},
   "outputs": [
    {
     "name": "stdout",
     "output_type": "stream",
     "text": [
      "The autoreload extension is already loaded. To reload it, use:\n",
      "  %reload_ext autoreload\n"
     ]
    }
   ],
   "source": [
    "%load_ext autoreload\n",
    "%autoreload 2"
   ]
  },
  {
   "cell_type": "code",
   "execution_count": 476,
   "metadata": {},
   "outputs": [],
   "source": [
    "import pandas as pd\n",
    "import re\n",
    "import matplotlib.pyplot as plt\n",
    "import seaborn as sns\n",
    "from collections import Counter\n",
    "from IPython.display import set_matplotlib_formats\n",
    "%matplotlib inline"
   ]
  },
  {
   "cell_type": "code",
   "execution_count": 477,
   "metadata": {},
   "outputs": [],
   "source": [
    "pd.options.display.float_format = '{:.2f}'.format\n",
    "rc={'savefig.dpi': 75, 'figure.autolayout': False, 'figure.figsize': [12, 8], 'axes.labelsize': 18,\\\n",
    "   'axes.titlesize': 18, 'font.size': 18, 'lines.linewidth': 2.0, 'lines.markersize': 8, 'legend.fontsize': 16,\\\n",
    "   'xtick.labelsize': 16, 'ytick.labelsize': 16}\n",
    "\n",
    "sns.set(style='dark',rc=rc)"
   ]
  },
  {
   "cell_type": "code",
   "execution_count": 478,
   "metadata": {},
   "outputs": [],
   "source": [
    "default_color = '#56B4E9'\n",
    "colormap = plt.cm.cool"
   ]
  },
  {
   "cell_type": "code",
   "execution_count": 479,
   "metadata": {},
   "outputs": [],
   "source": [
    "def clean_tags(tags: str):\n",
    "    tag_cleaned = tags.replace(\"[\",\"\").replace(\"]\", \"\").replace(\"'\",\"\")\n",
    "    tag_cleaned=re.sub(r\"\\s+\", \"\", tag_cleaned)\n",
    "    tag_cleaned = tag_cleaned.split(',')\n",
    "    return tag_cleaned"
   ]
  },
  {
   "cell_type": "code",
   "execution_count": 480,
   "metadata": {},
   "outputs": [],
   "source": [
    "df = pd.read_csv(\"../data/list_of_pocket_items_processed.csv\", sep=';')"
   ]
  },
  {
   "cell_type": "code",
   "execution_count": 481,
   "metadata": {},
   "outputs": [
    {
     "data": {
      "text/plain": [
       "1942"
      ]
     },
     "execution_count": 481,
     "metadata": {},
     "output_type": "execute_result"
    }
   ],
   "source": [
    "df.shape[0]"
   ]
  },
  {
   "cell_type": "code",
   "execution_count": 482,
   "metadata": {},
   "outputs": [],
   "source": [
    "df['tags'] = df['tags'].apply(lambda x : clean_tags(x))"
   ]
  },
  {
   "cell_type": "code",
   "execution_count": 483,
   "metadata": {},
   "outputs": [
    {
     "data": {
      "text/plain": [
       "True"
      ]
     },
     "execution_count": 483,
     "metadata": {},
     "output_type": "execute_result"
    }
   ],
   "source": [
    "df.explode('tags').shape[0] != df.shape[0]"
   ]
  },
  {
   "cell_type": "code",
   "execution_count": 432,
   "metadata": {},
   "outputs": [
    {
     "data": {
      "text/plain": [
       "item_id             int64\n",
       "resolved_id         int64\n",
       "given_url          object\n",
       "given_title        object\n",
       "resolved_url       object\n",
       "resolved_title     object\n",
       "is_article          int64\n",
       "excerpt            object\n",
       "word_count          int64\n",
       "lang               object\n",
       "domain_metadata    object\n",
       "tags               object\n",
       "dtype: object"
      ]
     },
     "execution_count": 432,
     "metadata": {},
     "output_type": "execute_result"
    }
   ],
   "source": [
    "df.dtypes"
   ]
  },
  {
   "cell_type": "code",
   "execution_count": 433,
   "metadata": {},
   "outputs": [
    {
     "data": {
      "text/plain": [
       "tags\n",
       "datascience        370\n",
       "python             302\n",
       "machinelearning    274\n",
       "dataviz            267\n",
       "nlp                115\n",
       "gis                 92\n",
       "deeplearning        74\n",
       "statistics          64\n",
       "blogs               47\n",
       "web                 44\n",
       "dataengineering     44\n",
       "geo                 38\n",
       "ddj                 38\n",
       "pandas              36\n",
       "jupyter             36\n",
       "government          33\n",
       "design              32\n",
       "javascript          31\n",
       "git                 30\n",
       "linux               26\n",
       "database            25\n",
       "d3.js               25\n",
       "webscraping         23\n",
       "data                21\n",
       "docker              21\n",
       "Name: item_id, dtype: int64"
      ]
     },
     "execution_count": 433,
     "metadata": {},
     "output_type": "execute_result"
    }
   ],
   "source": [
    "df.explode('tags').groupby('tags')['item_id'].count().sort_values(ascending=False)[:25]"
   ]
  },
  {
   "cell_type": "code",
   "execution_count": 377,
   "metadata": {},
   "outputs": [
    {
     "data": {
      "text/html": [
       "<div>\n",
       "<style scoped>\n",
       "    .dataframe tbody tr th:only-of-type {\n",
       "        vertical-align: middle;\n",
       "    }\n",
       "\n",
       "    .dataframe tbody tr th {\n",
       "        vertical-align: top;\n",
       "    }\n",
       "\n",
       "    .dataframe thead th {\n",
       "        text-align: right;\n",
       "    }\n",
       "</style>\n",
       "<table border=\"1\" class=\"dataframe\">\n",
       "  <thead>\n",
       "    <tr style=\"text-align: right;\">\n",
       "      <th></th>\n",
       "      <th>item_id</th>\n",
       "      <th>resolved_id</th>\n",
       "      <th>given_url</th>\n",
       "      <th>given_title</th>\n",
       "      <th>resolved_url</th>\n",
       "      <th>resolved_title</th>\n",
       "      <th>is_article</th>\n",
       "      <th>excerpt</th>\n",
       "      <th>word_count</th>\n",
       "      <th>lang</th>\n",
       "      <th>domain_metadata</th>\n",
       "      <th>tags</th>\n",
       "    </tr>\n",
       "  </thead>\n",
       "  <tbody>\n",
       "    <tr>\n",
       "      <th>0</th>\n",
       "      <td>2632654076</td>\n",
       "      <td>2632654076</td>\n",
       "      <td>https://ai.facebook.com/blog/open-sourcing-pyr...</td>\n",
       "      <td>NaN</td>\n",
       "      <td>https://ai.facebook.com/blog/open-sourcing-pyr...</td>\n",
       "      <td>Open-sourcing PyRobot to accelerate AI robotic...</td>\n",
       "      <td>1</td>\n",
       "      <td>Frameworks such as PyTorch have dramatically a...</td>\n",
       "      <td>1076</td>\n",
       "      <td>en</td>\n",
       "      <td>NaN</td>\n",
       "      <td>[ai]</td>\n",
       "    </tr>\n",
       "    <tr>\n",
       "      <th>1</th>\n",
       "      <td>2325959987</td>\n",
       "      <td>2325959987</td>\n",
       "      <td>https://ethicstoolkit.ai/</td>\n",
       "      <td>NaN</td>\n",
       "      <td>http://ethicstoolkit.ai/</td>\n",
       "      <td>Ethics &amp; Algorithms Toolkit</td>\n",
       "      <td>0</td>\n",
       "      <td>Government leaders and staff who leverage algo...</td>\n",
       "      <td>103</td>\n",
       "      <td>en</td>\n",
       "      <td>NaN</td>\n",
       "      <td>[ai]</td>\n",
       "    </tr>\n",
       "  </tbody>\n",
       "</table>\n",
       "</div>"
      ],
      "text/plain": [
       "      item_id  resolved_id                                          given_url  \\\n",
       "0  2632654076   2632654076  https://ai.facebook.com/blog/open-sourcing-pyr...   \n",
       "1  2325959987   2325959987                          https://ethicstoolkit.ai/   \n",
       "\n",
       "  given_title                                       resolved_url  \\\n",
       "0         NaN  https://ai.facebook.com/blog/open-sourcing-pyr...   \n",
       "1         NaN                           http://ethicstoolkit.ai/   \n",
       "\n",
       "                                      resolved_title  is_article  \\\n",
       "0  Open-sourcing PyRobot to accelerate AI robotic...           1   \n",
       "1                        Ethics & Algorithms Toolkit           0   \n",
       "\n",
       "                                             excerpt  word_count lang  \\\n",
       "0  Frameworks such as PyTorch have dramatically a...        1076   en   \n",
       "1  Government leaders and staff who leverage algo...         103   en   \n",
       "\n",
       "  domain_metadata  tags  \n",
       "0             NaN  [ai]  \n",
       "1             NaN  [ai]  "
      ]
     },
     "execution_count": 377,
     "metadata": {},
     "output_type": "execute_result"
    }
   ],
   "source": [
    "df.head(2)"
   ]
  },
  {
   "cell_type": "code",
   "execution_count": 434,
   "metadata": {},
   "outputs": [
    {
     "data": {
      "text/plain": [
       "(1942, 1920)"
      ]
     },
     "execution_count": 434,
     "metadata": {},
     "output_type": "execute_result"
    }
   ],
   "source": [
    "df['item_id'].nunique(), df['resolved_id'].nunique()"
   ]
  },
  {
   "cell_type": "markdown",
   "metadata": {},
   "source": [
    "### Pelo que está descrito na url https://getpocket.com/developer/docs/v3/retrieve\n",
    "\n",
    "`resolved_id` - A unique identifier similar to the item_id but is unique to the actual url of the saved item. The resolved_id identifies unique urls. For example a direct link to a New York Times article and a link that redirects (ex a shortened bit.ly url) to the same article will share the same resolved_id. If this value is 0, it means that Pocket has not processed the item. Normally this happens within seconds but is possible you may request the item before it has been resolved."
   ]
  },
  {
   "cell_type": "markdown",
   "metadata": {},
   "source": [
    "#### Portanto, iremos usar como chave primária o campo `resolved_id`."
   ]
  },
  {
   "cell_type": "code",
   "execution_count": 484,
   "metadata": {},
   "outputs": [],
   "source": [
    "df.drop_duplicates('resolved_id', inplace=True)"
   ]
  },
  {
   "cell_type": "code",
   "execution_count": 485,
   "metadata": {},
   "outputs": [
    {
     "data": {
      "text/plain": [
       "(1920, 1920)"
      ]
     },
     "execution_count": 485,
     "metadata": {},
     "output_type": "execute_result"
    }
   ],
   "source": [
    "df['item_id'].nunique(), df['resolved_id'].nunique()"
   ]
  },
  {
   "cell_type": "code",
   "execution_count": 486,
   "metadata": {},
   "outputs": [],
   "source": [
    "count_tags = Counter()"
   ]
  },
  {
   "cell_type": "code",
   "execution_count": 487,
   "metadata": {},
   "outputs": [],
   "source": [
    "for count in df.explode('tags').groupby('resolved_id')['tags'].count().sort_values(ascending=True).values:\n",
    "    count_tags[count] += 1"
   ]
  },
  {
   "cell_type": "code",
   "execution_count": 488,
   "metadata": {},
   "outputs": [
    {
     "data": {
      "image/png": "[encoded data removed]",
      "text/plain": [
       "<Figure size 864x576 with 1 Axes>"
      ]
     },
     "metadata": {},
     "output_type": "display_data"
    }
   ],
   "source": [
    "pd.DataFrame.from_dict(count_tags, orient='index').plot(kind='bar');"
   ]
  },
  {
   "cell_type": "markdown",
   "metadata": {},
   "source": [
    "### Pelo gráfico acima é perceptível que a grande maioria das ocorrências é um artigo ter uma única tag associada."
   ]
  },
  {
   "cell_type": "markdown",
   "metadata": {},
   "source": [
    "##### A ideia é utilizar o mínimo possível de informação para inferir a tag mais apropriada. Dessa forma iremos utilizar apenas as features: `resolved_title` e `excerpt`."
   ]
  },
  {
   "cell_type": "code",
   "execution_count": 489,
   "metadata": {},
   "outputs": [],
   "source": [
    "df_filtered = df[['resolved_id', 'resolved_title', 'excerpt', 'tags']].copy()\n",
    "df_filtered.reset_index(inplace=True)\n",
    "del df_filtered['index']"
   ]
  },
  {
   "cell_type": "code",
   "execution_count": 490,
   "metadata": {},
   "outputs": [
    {
     "data": {
      "text/plain": [
       "tags\n",
       "datascience        369\n",
       "python             299\n",
       "machinelearning    269\n",
       "dataviz            259\n",
       "nlp                113\n",
       "gis                 92\n",
       "deeplearning        74\n",
       "statistics          63\n",
       "blogs               47\n",
       "web                 44\n",
       "dataengineering     44\n",
       "geo                 38\n",
       "pandas              36\n",
       "ddj                 36\n",
       "jupyter             36\n",
       "government          33\n",
       "design              32\n",
       "javascript          31\n",
       "git                 29\n",
       "linux               26\n",
       "Name: resolved_id, dtype: int64"
      ]
     },
     "execution_count": 490,
     "metadata": {},
     "output_type": "execute_result"
    }
   ],
   "source": [
    "df_filtered.explode('tags').groupby('tags')['resolved_id'].count().sort_values(ascending=False)[:20]"
   ]
  },
  {
   "cell_type": "code",
   "execution_count": 491,
   "metadata": {},
   "outputs": [],
   "source": [
    "#build a data structure for cumulative tags frequency\n",
    "count_tags = pd.DataFrame(df_filtered.explode('tags').groupby('tags')['resolved_id'].count().sort_values(ascending=False).copy())\n",
    "count_tags.columns = ['quantitativo']\n",
    "count_tags['cumulative_sum'] = count_tags['quantitativo'].cumsum()\n",
    "count_tags['cumulative_perc'] = 100*count_tags.cumulative_sum/count_tags['quantitativo'].sum()\n",
    "count_select = count_tags[count_tags['cumulative_perc'] <= 95].copy()"
   ]
  },
  {
   "cell_type": "code",
   "execution_count": 492,
   "metadata": {},
   "outputs": [
    {
     "data": {
      "text/html": [
       "<div>\n",
       "<style scoped>\n",
       "    .dataframe tbody tr th:only-of-type {\n",
       "        vertical-align: middle;\n",
       "    }\n",
       "\n",
       "    .dataframe tbody tr th {\n",
       "        vertical-align: top;\n",
       "    }\n",
       "\n",
       "    .dataframe thead th {\n",
       "        text-align: right;\n",
       "    }\n",
       "</style>\n",
       "<table border=\"1\" class=\"dataframe\">\n",
       "  <thead>\n",
       "    <tr style=\"text-align: right;\">\n",
       "      <th></th>\n",
       "      <th>quantitativo</th>\n",
       "      <th>cumulative_sum</th>\n",
       "      <th>cumulative_perc</th>\n",
       "    </tr>\n",
       "    <tr>\n",
       "      <th>tags</th>\n",
       "      <th></th>\n",
       "      <th></th>\n",
       "      <th></th>\n",
       "    </tr>\n",
       "  </thead>\n",
       "  <tbody>\n",
       "    <tr>\n",
       "      <th>datascience</th>\n",
       "      <td>369</td>\n",
       "      <td>369</td>\n",
       "      <td>15.80</td>\n",
       "    </tr>\n",
       "    <tr>\n",
       "      <th>python</th>\n",
       "      <td>299</td>\n",
       "      <td>668</td>\n",
       "      <td>28.60</td>\n",
       "    </tr>\n",
       "    <tr>\n",
       "      <th>machinelearning</th>\n",
       "      <td>269</td>\n",
       "      <td>937</td>\n",
       "      <td>40.11</td>\n",
       "    </tr>\n",
       "    <tr>\n",
       "      <th>dataviz</th>\n",
       "      <td>259</td>\n",
       "      <td>1196</td>\n",
       "      <td>51.20</td>\n",
       "    </tr>\n",
       "    <tr>\n",
       "      <th>nlp</th>\n",
       "      <td>113</td>\n",
       "      <td>1309</td>\n",
       "      <td>56.04</td>\n",
       "    </tr>\n",
       "    <tr>\n",
       "      <th>gis</th>\n",
       "      <td>92</td>\n",
       "      <td>1401</td>\n",
       "      <td>59.97</td>\n",
       "    </tr>\n",
       "    <tr>\n",
       "      <th>deeplearning</th>\n",
       "      <td>74</td>\n",
       "      <td>1475</td>\n",
       "      <td>63.14</td>\n",
       "    </tr>\n",
       "    <tr>\n",
       "      <th>statistics</th>\n",
       "      <td>63</td>\n",
       "      <td>1538</td>\n",
       "      <td>65.84</td>\n",
       "    </tr>\n",
       "    <tr>\n",
       "      <th>blogs</th>\n",
       "      <td>47</td>\n",
       "      <td>1585</td>\n",
       "      <td>67.85</td>\n",
       "    </tr>\n",
       "    <tr>\n",
       "      <th>web</th>\n",
       "      <td>44</td>\n",
       "      <td>1629</td>\n",
       "      <td>69.73</td>\n",
       "    </tr>\n",
       "    <tr>\n",
       "      <th>dataengineering</th>\n",
       "      <td>44</td>\n",
       "      <td>1673</td>\n",
       "      <td>71.62</td>\n",
       "    </tr>\n",
       "    <tr>\n",
       "      <th>geo</th>\n",
       "      <td>38</td>\n",
       "      <td>1711</td>\n",
       "      <td>73.24</td>\n",
       "    </tr>\n",
       "    <tr>\n",
       "      <th>pandas</th>\n",
       "      <td>36</td>\n",
       "      <td>1747</td>\n",
       "      <td>74.79</td>\n",
       "    </tr>\n",
       "    <tr>\n",
       "      <th>ddj</th>\n",
       "      <td>36</td>\n",
       "      <td>1783</td>\n",
       "      <td>76.33</td>\n",
       "    </tr>\n",
       "    <tr>\n",
       "      <th>jupyter</th>\n",
       "      <td>36</td>\n",
       "      <td>1819</td>\n",
       "      <td>77.87</td>\n",
       "    </tr>\n",
       "    <tr>\n",
       "      <th>government</th>\n",
       "      <td>33</td>\n",
       "      <td>1852</td>\n",
       "      <td>79.28</td>\n",
       "    </tr>\n",
       "    <tr>\n",
       "      <th>design</th>\n",
       "      <td>32</td>\n",
       "      <td>1884</td>\n",
       "      <td>80.65</td>\n",
       "    </tr>\n",
       "    <tr>\n",
       "      <th>javascript</th>\n",
       "      <td>31</td>\n",
       "      <td>1915</td>\n",
       "      <td>81.98</td>\n",
       "    </tr>\n",
       "    <tr>\n",
       "      <th>git</th>\n",
       "      <td>29</td>\n",
       "      <td>1944</td>\n",
       "      <td>83.22</td>\n",
       "    </tr>\n",
       "    <tr>\n",
       "      <th>linux</th>\n",
       "      <td>26</td>\n",
       "      <td>1970</td>\n",
       "      <td>84.33</td>\n",
       "    </tr>\n",
       "  </tbody>\n",
       "</table>\n",
       "</div>"
      ],
      "text/plain": [
       "                 quantitativo  cumulative_sum  cumulative_perc\n",
       "tags                                                          \n",
       "datascience               369             369            15.80\n",
       "python                    299             668            28.60\n",
       "machinelearning           269             937            40.11\n",
       "dataviz                   259            1196            51.20\n",
       "nlp                       113            1309            56.04\n",
       "gis                        92            1401            59.97\n",
       "deeplearning               74            1475            63.14\n",
       "statistics                 63            1538            65.84\n",
       "blogs                      47            1585            67.85\n",
       "web                        44            1629            69.73\n",
       "dataengineering            44            1673            71.62\n",
       "geo                        38            1711            73.24\n",
       "pandas                     36            1747            74.79\n",
       "ddj                        36            1783            76.33\n",
       "jupyter                    36            1819            77.87\n",
       "government                 33            1852            79.28\n",
       "design                     32            1884            80.65\n",
       "javascript                 31            1915            81.98\n",
       "git                        29            1944            83.22\n",
       "linux                      26            1970            84.33"
      ]
     },
     "execution_count": 492,
     "metadata": {},
     "output_type": "execute_result"
    }
   ],
   "source": [
    "count_tags[:20]"
   ]
  },
  {
   "cell_type": "code",
   "execution_count": 493,
   "metadata": {},
   "outputs": [
    {
     "name": "stdout",
     "output_type": "stream",
     "text": [
      "Em relação aos artigos coletados do pocket temos um total de 51 tags distintas utilizadas.\n",
      "Todavia, ao todo 35 tags representam 95% das ocorrências.\n"
     ]
    }
   ],
   "source": [
    "print(f\"Em relação aos artigos coletados do pocket temos um total de {count_tags.index.nunique()} tags distintas utilizadas.\")\n",
    "print(f\"Todavia, ao todo {len(count_select.index)} tags representam 95% das ocorrências.\")"
   ]
  },
  {
   "cell_type": "markdown",
   "metadata": {},
   "source": [
    "### Para fins de prova de conceito iremos trabalhar com o TOP 20 tags mais frequentes, que representam aproximadamente 84% das ocorrências."
   ]
  },
  {
   "cell_type": "code",
   "execution_count": 494,
   "metadata": {},
   "outputs": [],
   "source": [
    "tags_to_model = list(df_filtered.explode('tags').groupby('tags')['resolved_id'].count().sort_values(ascending=False)[:20].index)"
   ]
  },
  {
   "cell_type": "code",
   "execution_count": 495,
   "metadata": {},
   "outputs": [],
   "source": [
    "df_filtered = df_filtered.sample(frac=1)\n",
    "df_filtered = df.explode('tags')"
   ]
  },
  {
   "cell_type": "code",
   "execution_count": 496,
   "metadata": {},
   "outputs": [
    {
     "data": {
      "text/html": [
       "<div>\n",
       "<style scoped>\n",
       "    .dataframe tbody tr th:only-of-type {\n",
       "        vertical-align: middle;\n",
       "    }\n",
       "\n",
       "    .dataframe tbody tr th {\n",
       "        vertical-align: top;\n",
       "    }\n",
       "\n",
       "    .dataframe thead th {\n",
       "        text-align: right;\n",
       "    }\n",
       "</style>\n",
       "<table border=\"1\" class=\"dataframe\">\n",
       "  <thead>\n",
       "    <tr style=\"text-align: right;\">\n",
       "      <th></th>\n",
       "      <th>item_id</th>\n",
       "      <th>resolved_id</th>\n",
       "      <th>given_url</th>\n",
       "      <th>given_title</th>\n",
       "      <th>resolved_url</th>\n",
       "      <th>resolved_title</th>\n",
       "      <th>is_article</th>\n",
       "      <th>excerpt</th>\n",
       "      <th>word_count</th>\n",
       "      <th>lang</th>\n",
       "      <th>domain_metadata</th>\n",
       "      <th>tags</th>\n",
       "    </tr>\n",
       "  </thead>\n",
       "  <tbody>\n",
       "    <tr>\n",
       "      <th>0</th>\n",
       "      <td>2632654076</td>\n",
       "      <td>2632654076</td>\n",
       "      <td>https://ai.facebook.com/blog/open-sourcing-pyr...</td>\n",
       "      <td>NaN</td>\n",
       "      <td>https://ai.facebook.com/blog/open-sourcing-pyr...</td>\n",
       "      <td>Open-sourcing PyRobot to accelerate AI robotic...</td>\n",
       "      <td>1</td>\n",
       "      <td>Frameworks such as PyTorch have dramatically a...</td>\n",
       "      <td>1076</td>\n",
       "      <td>en</td>\n",
       "      <td>NaN</td>\n",
       "      <td>ai</td>\n",
       "    </tr>\n",
       "    <tr>\n",
       "      <th>1</th>\n",
       "      <td>2325959987</td>\n",
       "      <td>2325959987</td>\n",
       "      <td>https://ethicstoolkit.ai/</td>\n",
       "      <td>NaN</td>\n",
       "      <td>http://ethicstoolkit.ai/</td>\n",
       "      <td>Ethics &amp; Algorithms Toolkit</td>\n",
       "      <td>0</td>\n",
       "      <td>Government leaders and staff who leverage algo...</td>\n",
       "      <td>103</td>\n",
       "      <td>en</td>\n",
       "      <td>NaN</td>\n",
       "      <td>ai</td>\n",
       "    </tr>\n",
       "    <tr>\n",
       "      <th>2</th>\n",
       "      <td>2592864641</td>\n",
       "      <td>2592797845</td>\n",
       "      <td>https://www.nytimes.com/2019/05/14/us/facial-r...</td>\n",
       "      <td>NaN</td>\n",
       "      <td>https://www.nytimes.com/2019/05/14/us/facial-r...</td>\n",
       "      <td>San Francisco Bans Facial Recognition Technology</td>\n",
       "      <td>1</td>\n",
       "      <td>SAN FRANCISCO — San Francisco, long at the hea...</td>\n",
       "      <td>1757</td>\n",
       "      <td>en</td>\n",
       "      <td>The New York Times</td>\n",
       "      <td>ai</td>\n",
       "    </tr>\n",
       "    <tr>\n",
       "      <th>3</th>\n",
       "      <td>2539825098</td>\n",
       "      <td>2539825108</td>\n",
       "      <td>https://youtu.be/qIhb9uI4o5M</td>\n",
       "      <td>NaN</td>\n",
       "      <td>https://www.youtube.com/watch?v=qIhb9uI4o5M</td>\n",
       "      <td>Cadernos de IA - 1_1 - Agentes Inteligentes</td>\n",
       "      <td>0</td>\n",
       "      <td>Video Curso sobre Inteligência Artificial.Cade...</td>\n",
       "      <td>0</td>\n",
       "      <td>NaN</td>\n",
       "      <td>YouTube</td>\n",
       "      <td>ai</td>\n",
       "    </tr>\n",
       "    <tr>\n",
       "      <th>4</th>\n",
       "      <td>2480753055</td>\n",
       "      <td>2479824693</td>\n",
       "      <td>https://t.co/FzfX2q8PsL</td>\n",
       "      <td>NaN</td>\n",
       "      <td>https://www.nytimes.com/2019/02/05/technology/...</td>\n",
       "      <td>Making New Drugs With a Dose of Artificial Int...</td>\n",
       "      <td>1</td>\n",
       "      <td>SAN FRANCISCO — You can think of it as a World...</td>\n",
       "      <td>1176</td>\n",
       "      <td>en</td>\n",
       "      <td>The New York Times</td>\n",
       "      <td>ai</td>\n",
       "    </tr>\n",
       "  </tbody>\n",
       "</table>\n",
       "</div>"
      ],
      "text/plain": [
       "      item_id  resolved_id                                          given_url  \\\n",
       "0  2632654076   2632654076  https://ai.facebook.com/blog/open-sourcing-pyr...   \n",
       "1  2325959987   2325959987                          https://ethicstoolkit.ai/   \n",
       "2  2592864641   2592797845  https://www.nytimes.com/2019/05/14/us/facial-r...   \n",
       "3  2539825098   2539825108                       https://youtu.be/qIhb9uI4o5M   \n",
       "4  2480753055   2479824693                            https://t.co/FzfX2q8PsL   \n",
       "\n",
       "  given_title                                       resolved_url  \\\n",
       "0         NaN  https://ai.facebook.com/blog/open-sourcing-pyr...   \n",
       "1         NaN                           http://ethicstoolkit.ai/   \n",
       "2         NaN  https://www.nytimes.com/2019/05/14/us/facial-r...   \n",
       "3         NaN        https://www.youtube.com/watch?v=qIhb9uI4o5M   \n",
       "4         NaN  https://www.nytimes.com/2019/02/05/technology/...   \n",
       "\n",
       "                                      resolved_title  is_article  \\\n",
       "0  Open-sourcing PyRobot to accelerate AI robotic...           1   \n",
       "1                        Ethics & Algorithms Toolkit           0   \n",
       "2   San Francisco Bans Facial Recognition Technology           1   \n",
       "3        Cadernos de IA - 1_1 - Agentes Inteligentes           0   \n",
       "4  Making New Drugs With a Dose of Artificial Int...           1   \n",
       "\n",
       "                                             excerpt  word_count lang  \\\n",
       "0  Frameworks such as PyTorch have dramatically a...        1076   en   \n",
       "1  Government leaders and staff who leverage algo...         103   en   \n",
       "2  SAN FRANCISCO — San Francisco, long at the hea...        1757   en   \n",
       "3  Video Curso sobre Inteligência Artificial.Cade...           0  NaN   \n",
       "4  SAN FRANCISCO — You can think of it as a World...        1176   en   \n",
       "\n",
       "      domain_metadata tags  \n",
       "0                 NaN   ai  \n",
       "1                 NaN   ai  \n",
       "2  The New York Times   ai  \n",
       "3             YouTube   ai  \n",
       "4  The New York Times   ai  "
      ]
     },
     "execution_count": 496,
     "metadata": {},
     "output_type": "execute_result"
    }
   ],
   "source": [
    "df_filtered.head()"
   ]
  },
  {
   "cell_type": "code",
   "execution_count": 497,
   "metadata": {},
   "outputs": [
    {
     "name": "stdout",
     "output_type": "stream",
     "text": [
      "Iniciando amostragem de datascience 258 amostras.\n",
      "Iniciando amostragem de python 209 amostras.\n",
      "Iniciando amostragem de machinelearning 188 amostras.\n",
      "Iniciando amostragem de dataviz 181 amostras.\n",
      "Iniciando amostragem de nlp 79 amostras.\n",
      "Iniciando amostragem de gis 64 amostras.\n",
      "Iniciando amostragem de deeplearning 52 amostras.\n",
      "Iniciando amostragem de statistics 44 amostras.\n",
      "Iniciando amostragem de blogs 33 amostras.\n",
      "Iniciando amostragem de web 31 amostras.\n",
      "Iniciando amostragem de dataengineering 31 amostras.\n",
      "Iniciando amostragem de geo 27 amostras.\n",
      "Iniciando amostragem de pandas 25 amostras.\n",
      "Iniciando amostragem de ddj 25 amostras.\n",
      "Iniciando amostragem de jupyter 25 amostras.\n",
      "Iniciando amostragem de government 23 amostras.\n",
      "Iniciando amostragem de design 22 amostras.\n",
      "Iniciando amostragem de javascript 22 amostras.\n",
      "Iniciando amostragem de git 20 amostras.\n",
      "Iniciando amostragem de linux 18 amostras.\n"
     ]
    }
   ],
   "source": [
    "train_idxs = {}\n",
    "for tag in tags_to_model:\n",
    "    train_idxs[tag] = []\n",
    "    select_data_tag = df_filtered[df_filtered['tags'] == tag].copy()\n",
    "    size_of_tags = select_data_tag.shape[0]\n",
    "    size_of_train = int(round(0.7*size_of_tags))\n",
    "    print(f\"Iniciando amostragem de {tag} {size_of_train} amostras.\")\n",
    "    sampled_tag = select_data_tag.sample(size_of_train)\n",
    "    list_of_id = sampled_tag['resolved_id'].unique().tolist()\n",
    "    list_of_idxs_to_drop = sampled_tag.index.tolist()\n",
    "    train_idxs[tag].extend(list_of_id)\n",
    "    data_train = df_filtered.drop(list_of_idxs_to_drop)"
   ]
  },
  {
   "cell_type": "code",
   "execution_count": 498,
   "metadata": {},
   "outputs": [],
   "source": [
    "all_new_ids = []\n",
    "for tags in train_idxs.values():\n",
    "    all_new_ids.extend(tags)"
   ]
  },
  {
   "cell_type": "code",
   "execution_count": 499,
   "metadata": {},
   "outputs": [],
   "source": [
    "df_train = df.loc[df['resolved_id'].isin(all_new_ids)].copy()\n",
    "df_train.drop_duplicates('resolved_id', inplace=True)"
   ]
  },
  {
   "cell_type": "code",
   "execution_count": 500,
   "metadata": {},
   "outputs": [
    {
     "data": {
      "text/plain": [
       "(1233, 1233)"
      ]
     },
     "execution_count": 500,
     "metadata": {},
     "output_type": "execute_result"
    }
   ],
   "source": [
    "df_train.shape[0], df_train.index.nunique()"
   ]
  },
  {
   "cell_type": "code",
   "execution_count": 501,
   "metadata": {},
   "outputs": [],
   "source": [
    "df_test = df.loc[~df['resolved_id'].isin(df_train['resolved_id'].unique().tolist())].copy()\n",
    "df_test.drop_duplicates('resolved_id', inplace=True)"
   ]
  },
  {
   "cell_type": "code",
   "execution_count": 502,
   "metadata": {},
   "outputs": [
    {
     "data": {
      "text/plain": [
       "(1233, 687)"
      ]
     },
     "execution_count": 502,
     "metadata": {},
     "output_type": "execute_result"
    }
   ],
   "source": [
    "df_train.shape[0], df_test.shape[0]"
   ]
  },
  {
   "cell_type": "code",
   "execution_count": 503,
   "metadata": {},
   "outputs": [
    {
     "data": {
      "text/plain": [
       "set()"
      ]
     },
     "execution_count": 503,
     "metadata": {},
     "output_type": "execute_result"
    }
   ],
   "source": [
    "set(df_train.resolved_id.unique()).intersection(df_test.resolved_id.unique())"
   ]
  },
  {
   "cell_type": "code",
   "execution_count": 504,
   "metadata": {},
   "outputs": [
    {
     "data": {
      "text/plain": [
       "tags\n",
       "datascience        289\n",
       "python             235\n",
       "machinelearning    201\n",
       "dataviz            193\n",
       "nlp                 82\n",
       "gis                 68\n",
       "deeplearning        60\n",
       "statistics          48\n",
       "blogs               36\n",
       "web                 34\n",
       "dataengineering     31\n",
       "pandas              30\n",
       "geo                 29\n",
       "jupyter             27\n",
       "ddj                 25\n",
       "javascript          24\n",
       "government          24\n",
       "design              22\n",
       "git                 20\n",
       "linux               19\n",
       "Name: item_id, dtype: int64"
      ]
     },
     "execution_count": 504,
     "metadata": {},
     "output_type": "execute_result"
    }
   ],
   "source": [
    "df_train.explode('tags').groupby('tags')['item_id'].count().sort_values(ascending=False)[:20]"
   ]
  },
  {
   "cell_type": "code",
   "execution_count": 505,
   "metadata": {},
   "outputs": [
    {
     "data": {
      "text/plain": [
       "tags\n",
       "datascience        80\n",
       "machinelearning    68\n",
       "dataviz            66\n",
       "python             64\n",
       "nlp                31\n",
       "gis                24\n",
       "webscraping        23\n",
       "d3.js              20\n",
       "database           20\n",
       "data               19\n",
       "elasticsearch      17\n",
       "docker             15\n",
       "ai                 15\n",
       "statistics         15\n",
       "deeplearning       14\n",
       "dataengineering    13\n",
       "sql                12\n",
       "spark              12\n",
       "blogs              11\n",
       "vscode             11\n",
       "Name: item_id, dtype: int64"
      ]
     },
     "execution_count": 505,
     "metadata": {},
     "output_type": "execute_result"
    }
   ],
   "source": [
    "df_test.explode('tags').groupby('tags')['item_id'].count().sort_values(ascending=False)[:20]"
   ]
  },
  {
   "cell_type": "markdown",
   "metadata": {},
   "source": [
    "#### eliminar da base de treino e test as tags que estão fora do top 20"
   ]
  },
  {
   "cell_type": "code",
   "execution_count": 506,
   "metadata": {},
   "outputs": [],
   "source": [
    "lista_all_tags = df.explode(\"tags\")['tags'].unique()\n",
    "tags_a_remover = list(set(lista_all_tags).difference(set(tags_to_model)))"
   ]
  },
  {
   "cell_type": "code",
   "execution_count": 507,
   "metadata": {},
   "outputs": [],
   "source": [
    "df_train.reset_index(inplace=True)\n",
    "del df_train['index']\n",
    "df_test.reset_index(inplace=True)\n",
    "del df_test['index']"
   ]
  },
  {
   "cell_type": "code",
   "execution_count": 508,
   "metadata": {},
   "outputs": [],
   "source": [
    "df_train['tags_mod'] = \"\""
   ]
  },
  {
   "cell_type": "code",
   "execution_count": 509,
   "metadata": {},
   "outputs": [],
   "source": [
    "track_modify = {}\n",
    "for index, row in df_train.iterrows():\n",
    "    track_modify[index] = \"\"\n",
    "    tags_original = row['tags'].copy()\n",
    "    for tag_to_remove in tags_a_remover:\n",
    "        if tag_to_remove in tags_original:\n",
    "            tags_original.remove(tag_to_remove)\n",
    "    track_modify[index] = tags_original\n",
    "for index, tag in track_modify.items():\n",
    "    df_train.at[index, 'tags_mod'] = tag"
   ]
  },
  {
   "cell_type": "code",
   "execution_count": 510,
   "metadata": {},
   "outputs": [],
   "source": [
    "df_train['is_tag_modified'] = df_train.apply(lambda x : len(x['tags']) != len(x['tags_mod']), axis='columns')"
   ]
  },
  {
   "cell_type": "code",
   "execution_count": 511,
   "metadata": {},
   "outputs": [
    {
     "data": {
      "text/plain": [
       "84"
      ]
     },
     "execution_count": 511,
     "metadata": {},
     "output_type": "execute_result"
    }
   ],
   "source": [
    "df_train[df_train['is_tag_modified'] == True].shape[0]"
   ]
  },
  {
   "cell_type": "code",
   "execution_count": 512,
   "metadata": {},
   "outputs": [],
   "source": [
    "df_test['tags_mod'] = \"\""
   ]
  },
  {
   "cell_type": "code",
   "execution_count": 513,
   "metadata": {},
   "outputs": [],
   "source": [
    "track_modify = {}\n",
    "for index, row in df_test.iterrows():\n",
    "    track_modify[index] = \"\"\n",
    "    tags_original = row['tags'].copy()\n",
    "    for tag_to_remove in tags_a_remover:\n",
    "        if tag_to_remove in tags_original:\n",
    "            tags_original.remove(tag_to_remove)\n",
    "    track_modify[index] = tags_original\n",
    "for index, tag in track_modify.items():\n",
    "    df_test.at[index, 'tags_mod'] = tag"
   ]
  },
  {
   "cell_type": "code",
   "execution_count": 514,
   "metadata": {},
   "outputs": [],
   "source": [
    "df_test['is_tag_modified'] = df_test.apply(lambda x : len(x['tags']) != len(x['tags_mod']), axis='columns')"
   ]
  },
  {
   "cell_type": "code",
   "execution_count": 515,
   "metadata": {},
   "outputs": [
    {
     "data": {
      "text/plain": [
       "273"
      ]
     },
     "execution_count": 515,
     "metadata": {},
     "output_type": "execute_result"
    }
   ],
   "source": [
    "df_test[df_test['is_tag_modified'] == True].shape[0]"
   ]
  },
  {
   "cell_type": "code",
   "execution_count": 516,
   "metadata": {},
   "outputs": [
    {
     "data": {
      "text/plain": [
       "tags_mod\n",
       "datascience        80\n",
       "machinelearning    68\n",
       "dataviz            66\n",
       "python             64\n",
       "nlp                31\n",
       "gis                24\n",
       "statistics         15\n",
       "deeplearning       14\n",
       "dataengineering    13\n",
       "blogs              11\n",
       "ddj                11\n",
       "design             10\n",
       "web                10\n",
       "geo                 9\n",
       "government          9\n",
       "jupyter             9\n",
       "git                 9\n",
       "javascript          7\n",
       "linux               7\n",
       "pandas              6\n",
       "Name: resolved_id, dtype: int64"
      ]
     },
     "execution_count": 516,
     "metadata": {},
     "output_type": "execute_result"
    }
   ],
   "source": [
    "df_test.explode('tags_mod').groupby('tags_mod')['resolved_id'].count().sort_values(ascending=False)"
   ]
  },
  {
   "cell_type": "code",
   "execution_count": 526,
   "metadata": {},
   "outputs": [],
   "source": [
    "#na exclusão das tags que não pertecem ao top 20 pode acontecer de algum artigo ficar sem nenhuma tag associada\n",
    "df_test = df_test.drop(df_test[df_test['tags_mod'].apply(lambda x : len(x) == 0)].index)\n",
    "df_train = df_train.drop(df_train[df_train['tags_mod'].apply(lambda x : len(x) == 0)].index)"
   ]
  },
  {
   "cell_type": "code",
   "execution_count": 527,
   "metadata": {},
   "outputs": [],
   "source": [
    "df_train = df_train.loc[df_train['resolved_title'].dropna().index].copy()\n",
    "df_test = df_test.loc[df_test['resolved_title'].dropna().index].copy()"
   ]
  },
  {
   "cell_type": "code",
   "execution_count": 528,
   "metadata": {},
   "outputs": [],
   "source": [
    "df_train = df_train[['resolved_id', 'resolved_title', 'excerpt', 'tags_mod']].copy()\n",
    "df_train.columns = ['resolved_id', 'resolved_title', 'excerpt', 'tags']"
   ]
  },
  {
   "cell_type": "code",
   "execution_count": 529,
   "metadata": {},
   "outputs": [],
   "source": [
    "df_test = df_test[['resolved_id', 'resolved_title', 'excerpt', 'tags_mod']].copy()\n",
    "df_test.columns = ['resolved_id', 'resolved_title', 'excerpt', 'tags']"
   ]
  },
  {
   "cell_type": "code",
   "execution_count": 531,
   "metadata": {},
   "outputs": [
    {
     "data": {
      "text/plain": [
       "(1182, 438)"
      ]
     },
     "execution_count": 531,
     "metadata": {},
     "output_type": "execute_result"
    }
   ],
   "source": [
    "df_train.shape[0], df_test.shape[0]"
   ]
  },
  {
   "cell_type": "code",
   "execution_count": 533,
   "metadata": {},
   "outputs": [],
   "source": [
    "df_train = df_train.sample(frac=1)\n",
    "df_test = df_test.sample(frac=1)"
   ]
  },
  {
   "cell_type": "code",
   "execution_count": 534,
   "metadata": {},
   "outputs": [],
   "source": [
    "df_train.to_csv(\"../data/2019_11_14_train.csv\", sep=';', index=False)\n",
    "df_test.to_csv(\"../data/2019_11_14_test.csv\", sep=';', index=False)"
   ]
  }
 ],
 "metadata": {
  "kernelspec": {
   "display_name": "pocket",
   "language": "python",
   "name": "venv"
  },
  "language_info": {
   "codemirror_mode": {
    "name": "ipython",
    "version": 3
   },
   "file_extension": ".py",
   "mimetype": "text/x-python",
   "name": "python",
   "nbconvert_exporter": "python",
   "pygments_lexer": "ipython3",
   "version": "3.7.3"
  }
 },
 "nbformat": 4,
 "nbformat_minor": 4
}
