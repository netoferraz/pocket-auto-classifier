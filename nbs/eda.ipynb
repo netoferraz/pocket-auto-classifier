{
 "cells": [
  {
   "cell_type": "code",
   "execution_count": 135,
   "metadata": {},
   "outputs": [],
   "source": [
    "import pandas as pd\n",
    "import re"
   ]
  },
  {
   "cell_type": "code",
   "execution_count": 144,
   "metadata": {},
   "outputs": [],
   "source": [
    "df = pd.read_csv(\"../data/list_of_pocket_items_processed.csv\", sep=';')"
   ]
  },
  {
   "cell_type": "code",
   "execution_count": 145,
   "metadata": {},
   "outputs": [
    {
     "data": {
      "text/plain": [
       "1942"
      ]
     },
     "execution_count": 145,
     "metadata": {},
     "output_type": "execute_result"
    }
   ],
   "source": [
    "df.shape[0]"
   ]
  },
  {
   "cell_type": "code",
   "execution_count": 146,
   "metadata": {},
   "outputs": [],
   "source": [
    "def clean_tags(tags: str):\n",
    "    tag_cleaned = tags.replace(\"[\",\"\").replace(\"]\", \"\").replace(\"'\",\"\")\n",
    "    tag_cleaned=re.sub(r\"\\s+\", \"\", tag_cleaned)\n",
    "    tag_cleaned = tag_cleaned.split(',')\n",
    "    return tag_cleaned"
   ]
  },
  {
   "cell_type": "code",
   "execution_count": 147,
   "metadata": {},
   "outputs": [],
   "source": [
    "df['tags'] = df['tags'].apply(lambda x : clean_tags(x))"
   ]
  },
  {
   "cell_type": "code",
   "execution_count": 151,
   "metadata": {},
   "outputs": [
    {
     "data": {
      "text/plain": [
       "True"
      ]
     },
     "execution_count": 151,
     "metadata": {},
     "output_type": "execute_result"
    }
   ],
   "source": [
    "df.explode('tags').shape[0] != df.shape[0]"
   ]
  },
  {
   "cell_type": "code",
   "execution_count": 152,
   "metadata": {},
   "outputs": [
    {
     "data": {
      "text/plain": [
       "tags\n",
       "datascience        370\n",
       "python             302\n",
       "machinelearning    274\n",
       "dataviz            267\n",
       "nlp                115\n",
       "gis                 92\n",
       "deeplearning        74\n",
       "statistics          64\n",
       "blogs               47\n",
       "web                 44\n",
       "dataengineering     44\n",
       "geo                 38\n",
       "ddj                 38\n",
       "pandas              36\n",
       "jupyter             36\n",
       "government          33\n",
       "design              32\n",
       "javascript          31\n",
       "git                 30\n",
       "linux               26\n",
       "database            25\n",
       "d3.js               25\n",
       "webscraping         23\n",
       "data                21\n",
       "docker              21\n",
       "Name: item_id, dtype: int64"
      ]
     },
     "execution_count": 152,
     "metadata": {},
     "output_type": "execute_result"
    }
   ],
   "source": [
    "df.explode('tags').groupby('tags')['item_id'].count().sort_values(ascending=False)[:25]"
   ]
  },
  {
   "cell_type": "code",
   "execution_count": null,
   "metadata": {},
   "outputs": [],
   "source": []
  }
 ],
 "metadata": {
  "kernelspec": {
   "display_name": "Python 3",
   "language": "python",
   "name": "python3"
  },
  "language_info": {
   "codemirror_mode": {
    "name": "ipython",
    "version": 3
   },
   "file_extension": ".py",
   "mimetype": "text/x-python",
   "name": "python",
   "nbconvert_exporter": "python",
   "pygments_lexer": "ipython3",
   "version": "3.7.4"
  }
 },
 "nbformat": 4,
 "nbformat_minor": 4
}
